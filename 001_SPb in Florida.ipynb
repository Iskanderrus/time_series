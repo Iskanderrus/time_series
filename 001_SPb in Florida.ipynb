{
 "cells": [
  {
   "cell_type": "markdown",
   "id": "faad0869",
   "metadata": {},
   "source": [
    "# Import librairies"
   ]
  },
  {
   "cell_type": "code",
   "execution_count": 1,
   "id": "41e4077d",
   "metadata": {},
   "outputs": [],
   "source": [
    "import pandas as pd\n",
    "import numpy as np"
   ]
  },
  {
   "cell_type": "markdown",
   "id": "a42268b4",
   "metadata": {},
   "source": [
    "# Reading the dataset and getting first info"
   ]
  },
  {
   "cell_type": "code",
   "execution_count": 2,
   "id": "b310cf46",
   "metadata": {},
   "outputs": [],
   "source": [
    "df = pd.read_csv('SPB_FL_1892_2020.csv')"
   ]
  },
  {
   "cell_type": "code",
   "execution_count": 3,
   "id": "3ffb076b",
   "metadata": {},
   "outputs": [
    {
     "data": {
      "text/html": [
       "<div>\n",
       "<style scoped>\n",
       "    .dataframe tbody tr th:only-of-type {\n",
       "        vertical-align: middle;\n",
       "    }\n",
       "\n",
       "    .dataframe tbody tr th {\n",
       "        vertical-align: top;\n",
       "    }\n",
       "\n",
       "    .dataframe thead th {\n",
       "        text-align: right;\n",
       "    }\n",
       "</style>\n",
       "<table border=\"1\" class=\"dataframe\">\n",
       "  <thead>\n",
       "    <tr style=\"text-align: right;\">\n",
       "      <th></th>\n",
       "      <th>COOPID</th>\n",
       "      <th>YEAR</th>\n",
       "      <th>MONTH</th>\n",
       "      <th>DAY</th>\n",
       "      <th>PRECIPITATION</th>\n",
       "      <th>MAX TEMP</th>\n",
       "      <th>MIN TEMP</th>\n",
       "      <th>MEAN TEMP</th>\n",
       "    </tr>\n",
       "  </thead>\n",
       "  <tbody>\n",
       "    <tr>\n",
       "      <th>0</th>\n",
       "      <td>87886</td>\n",
       "      <td>1892</td>\n",
       "      <td>1</td>\n",
       "      <td>1</td>\n",
       "      <td>-99.99</td>\n",
       "      <td>78.0</td>\n",
       "      <td>60.0</td>\n",
       "      <td>69.0</td>\n",
       "    </tr>\n",
       "    <tr>\n",
       "      <th>1</th>\n",
       "      <td>87886</td>\n",
       "      <td>1892</td>\n",
       "      <td>1</td>\n",
       "      <td>2</td>\n",
       "      <td>-99.99</td>\n",
       "      <td>71.0</td>\n",
       "      <td>52.0</td>\n",
       "      <td>61.5</td>\n",
       "    </tr>\n",
       "    <tr>\n",
       "      <th>2</th>\n",
       "      <td>87886</td>\n",
       "      <td>1892</td>\n",
       "      <td>1</td>\n",
       "      <td>3</td>\n",
       "      <td>-99.99</td>\n",
       "      <td>55.0</td>\n",
       "      <td>42.0</td>\n",
       "      <td>48.5</td>\n",
       "    </tr>\n",
       "    <tr>\n",
       "      <th>3</th>\n",
       "      <td>87886</td>\n",
       "      <td>1892</td>\n",
       "      <td>1</td>\n",
       "      <td>4</td>\n",
       "      <td>-99.99</td>\n",
       "      <td>58.0</td>\n",
       "      <td>34.0</td>\n",
       "      <td>46.0</td>\n",
       "    </tr>\n",
       "    <tr>\n",
       "      <th>4</th>\n",
       "      <td>87886</td>\n",
       "      <td>1892</td>\n",
       "      <td>1</td>\n",
       "      <td>5</td>\n",
       "      <td>-99.99</td>\n",
       "      <td>70.0</td>\n",
       "      <td>53.0</td>\n",
       "      <td>61.5</td>\n",
       "    </tr>\n",
       "  </tbody>\n",
       "</table>\n",
       "</div>"
      ],
      "text/plain": [
       "   COOPID   YEAR   MONTH   DAY   PRECIPITATION   MAX TEMP   MIN TEMP  \\\n",
       "0   87886   1892       1     1          -99.99       78.0       60.0   \n",
       "1   87886   1892       1     2          -99.99       71.0       52.0   \n",
       "2   87886   1892       1     3          -99.99       55.0       42.0   \n",
       "3   87886   1892       1     4          -99.99       58.0       34.0   \n",
       "4   87886   1892       1     5          -99.99       70.0       53.0   \n",
       "\n",
       "    MEAN TEMP  \n",
       "0        69.0  \n",
       "1        61.5  \n",
       "2        48.5  \n",
       "3        46.0  \n",
       "4        61.5  "
      ]
     },
     "execution_count": 3,
     "metadata": {},
     "output_type": "execute_result"
    }
   ],
   "source": [
    "df.head()"
   ]
  },
  {
   "cell_type": "code",
   "execution_count": 4,
   "id": "77027f63",
   "metadata": {},
   "outputs": [
    {
     "name": "stdout",
     "output_type": "stream",
     "text": [
      "<class 'pandas.core.frame.DataFrame'>\n",
      "RangeIndex: 46844 entries, 0 to 46843\n",
      "Data columns (total 8 columns):\n",
      " #   Column          Non-Null Count  Dtype  \n",
      "---  ------          --------------  -----  \n",
      " 0   COOPID          46844 non-null  int64  \n",
      " 1    YEAR           46844 non-null  int64  \n",
      " 2    MONTH          46844 non-null  int64  \n",
      " 3    DAY            46844 non-null  int64  \n",
      " 4    PRECIPITATION  46844 non-null  float64\n",
      " 5    MAX TEMP       46844 non-null  float64\n",
      " 6    MIN TEMP       46844 non-null  float64\n",
      " 7    MEAN TEMP      46844 non-null  float64\n",
      "dtypes: float64(4), int64(4)\n",
      "memory usage: 2.9 MB\n"
     ]
    }
   ],
   "source": [
    "df.info()"
   ]
  },
  {
   "cell_type": "code",
   "execution_count": 5,
   "id": "09ea15f1",
   "metadata": {},
   "outputs": [
    {
     "data": {
      "text/plain": [
       "Index(['COOPID', ' YEAR', ' MONTH', ' DAY', ' PRECIPITATION', ' MAX TEMP',\n",
       "       ' MIN TEMP', ' MEAN TEMP'],\n",
       "      dtype='object')"
      ]
     },
     "execution_count": 5,
     "metadata": {},
     "output_type": "execute_result"
    }
   ],
   "source": [
    "df.columns"
   ]
  },
  {
   "cell_type": "markdown",
   "id": "d8df9e60",
   "metadata": {},
   "source": [
    "Column names are inconsistent.  \n",
    "1. Delete spaces. \n",
    "2. Adjust the column names to the lower case with capitalized first one."
   ]
  },
  {
   "cell_type": "code",
   "execution_count": 6,
   "id": "a1bcc6fa",
   "metadata": {},
   "outputs": [],
   "source": [
    "# reformat the column names: \n",
    "column_names = [x.strip().title() for x in df.columns]"
   ]
  },
  {
   "cell_type": "code",
   "execution_count": 7,
   "id": "6e5d7bdb",
   "metadata": {},
   "outputs": [
    {
     "data": {
      "text/plain": [
       "['Coopid',\n",
       " 'Year',\n",
       " 'Month',\n",
       " 'Day',\n",
       " 'Precipitation',\n",
       " 'Max Temp',\n",
       " 'Min Temp',\n",
       " 'Mean Temp']"
      ]
     },
     "execution_count": 7,
     "metadata": {},
     "output_type": "execute_result"
    }
   ],
   "source": [
    "column_names"
   ]
  },
  {
   "cell_type": "code",
   "execution_count": 8,
   "id": "40b23560",
   "metadata": {},
   "outputs": [],
   "source": [
    "# rename the columns in the dataframe: \n",
    "df.columns = column_names"
   ]
  },
  {
   "cell_type": "code",
   "execution_count": 9,
   "id": "3febbe9a",
   "metadata": {},
   "outputs": [
    {
     "data": {
      "text/html": [
       "<div>\n",
       "<style scoped>\n",
       "    .dataframe tbody tr th:only-of-type {\n",
       "        vertical-align: middle;\n",
       "    }\n",
       "\n",
       "    .dataframe tbody tr th {\n",
       "        vertical-align: top;\n",
       "    }\n",
       "\n",
       "    .dataframe thead th {\n",
       "        text-align: right;\n",
       "    }\n",
       "</style>\n",
       "<table border=\"1\" class=\"dataframe\">\n",
       "  <thead>\n",
       "    <tr style=\"text-align: right;\">\n",
       "      <th></th>\n",
       "      <th>Coopid</th>\n",
       "      <th>Year</th>\n",
       "      <th>Month</th>\n",
       "      <th>Day</th>\n",
       "      <th>Precipitation</th>\n",
       "      <th>Max Temp</th>\n",
       "      <th>Min Temp</th>\n",
       "      <th>Mean Temp</th>\n",
       "    </tr>\n",
       "  </thead>\n",
       "  <tbody>\n",
       "    <tr>\n",
       "      <th>0</th>\n",
       "      <td>87886</td>\n",
       "      <td>1892</td>\n",
       "      <td>1</td>\n",
       "      <td>1</td>\n",
       "      <td>-99.99</td>\n",
       "      <td>78.0</td>\n",
       "      <td>60.0</td>\n",
       "      <td>69.0</td>\n",
       "    </tr>\n",
       "    <tr>\n",
       "      <th>1</th>\n",
       "      <td>87886</td>\n",
       "      <td>1892</td>\n",
       "      <td>1</td>\n",
       "      <td>2</td>\n",
       "      <td>-99.99</td>\n",
       "      <td>71.0</td>\n",
       "      <td>52.0</td>\n",
       "      <td>61.5</td>\n",
       "    </tr>\n",
       "    <tr>\n",
       "      <th>2</th>\n",
       "      <td>87886</td>\n",
       "      <td>1892</td>\n",
       "      <td>1</td>\n",
       "      <td>3</td>\n",
       "      <td>-99.99</td>\n",
       "      <td>55.0</td>\n",
       "      <td>42.0</td>\n",
       "      <td>48.5</td>\n",
       "    </tr>\n",
       "    <tr>\n",
       "      <th>3</th>\n",
       "      <td>87886</td>\n",
       "      <td>1892</td>\n",
       "      <td>1</td>\n",
       "      <td>4</td>\n",
       "      <td>-99.99</td>\n",
       "      <td>58.0</td>\n",
       "      <td>34.0</td>\n",
       "      <td>46.0</td>\n",
       "    </tr>\n",
       "    <tr>\n",
       "      <th>4</th>\n",
       "      <td>87886</td>\n",
       "      <td>1892</td>\n",
       "      <td>1</td>\n",
       "      <td>5</td>\n",
       "      <td>-99.99</td>\n",
       "      <td>70.0</td>\n",
       "      <td>53.0</td>\n",
       "      <td>61.5</td>\n",
       "    </tr>\n",
       "  </tbody>\n",
       "</table>\n",
       "</div>"
      ],
      "text/plain": [
       "   Coopid  Year  Month  Day  Precipitation  Max Temp  Min Temp  Mean Temp\n",
       "0   87886  1892      1    1         -99.99      78.0      60.0       69.0\n",
       "1   87886  1892      1    2         -99.99      71.0      52.0       61.5\n",
       "2   87886  1892      1    3         -99.99      55.0      42.0       48.5\n",
       "3   87886  1892      1    4         -99.99      58.0      34.0       46.0\n",
       "4   87886  1892      1    5         -99.99      70.0      53.0       61.5"
      ]
     },
     "execution_count": 9,
     "metadata": {},
     "output_type": "execute_result"
    }
   ],
   "source": [
    "df.head()"
   ]
  },
  {
   "cell_type": "code",
   "execution_count": 10,
   "id": "3b4c99d9",
   "metadata": {},
   "outputs": [
    {
     "data": {
      "text/plain": [
       "array([87886])"
      ]
     },
     "execution_count": 10,
     "metadata": {},
     "output_type": "execute_result"
    }
   ],
   "source": [
    "df.Coopid.unique()"
   ]
  },
  {
   "cell_type": "markdown",
   "id": "a34998e8",
   "metadata": {},
   "source": [
    "Looks like `Coopid` column doesn't contain any valuable information for this project. "
   ]
  },
  {
   "cell_type": "code",
   "execution_count": 11,
   "id": "87d36220",
   "metadata": {},
   "outputs": [],
   "source": [
    "df.drop('Coopid', axis=1, inplace=True)"
   ]
  },
  {
   "cell_type": "code",
   "execution_count": 12,
   "id": "84fb912e",
   "metadata": {},
   "outputs": [
    {
     "data": {
      "text/html": [
       "<div>\n",
       "<style scoped>\n",
       "    .dataframe tbody tr th:only-of-type {\n",
       "        vertical-align: middle;\n",
       "    }\n",
       "\n",
       "    .dataframe tbody tr th {\n",
       "        vertical-align: top;\n",
       "    }\n",
       "\n",
       "    .dataframe thead th {\n",
       "        text-align: right;\n",
       "    }\n",
       "</style>\n",
       "<table border=\"1\" class=\"dataframe\">\n",
       "  <thead>\n",
       "    <tr style=\"text-align: right;\">\n",
       "      <th></th>\n",
       "      <th>Year</th>\n",
       "      <th>Month</th>\n",
       "      <th>Day</th>\n",
       "      <th>Precipitation</th>\n",
       "      <th>Max Temp</th>\n",
       "      <th>Min Temp</th>\n",
       "      <th>Mean Temp</th>\n",
       "    </tr>\n",
       "  </thead>\n",
       "  <tbody>\n",
       "    <tr>\n",
       "      <th>count</th>\n",
       "      <td>46844.000000</td>\n",
       "      <td>46844.000000</td>\n",
       "      <td>46844.000000</td>\n",
       "      <td>46844.000000</td>\n",
       "      <td>46844.000000</td>\n",
       "      <td>46844.000000</td>\n",
       "      <td>46844.000000</td>\n",
       "    </tr>\n",
       "    <tr>\n",
       "      <th>mean</th>\n",
       "      <td>1955.494855</td>\n",
       "      <td>6.514025</td>\n",
       "      <td>15.755102</td>\n",
       "      <td>-52.161705</td>\n",
       "      <td>-10.775344</td>\n",
       "      <td>-18.295929</td>\n",
       "      <td>-14.609446</td>\n",
       "    </tr>\n",
       "    <tr>\n",
       "      <th>std</th>\n",
       "      <td>36.947066</td>\n",
       "      <td>3.451197</td>\n",
       "      <td>8.811201</td>\n",
       "      <td>50.019984</td>\n",
       "      <td>90.933819</td>\n",
       "      <td>83.371046</td>\n",
       "      <td>87.135967</td>\n",
       "    </tr>\n",
       "    <tr>\n",
       "      <th>min</th>\n",
       "      <td>1892.000000</td>\n",
       "      <td>1.000000</td>\n",
       "      <td>1.000000</td>\n",
       "      <td>-99.990000</td>\n",
       "      <td>-99.900000</td>\n",
       "      <td>-99.900000</td>\n",
       "      <td>-99.900000</td>\n",
       "    </tr>\n",
       "    <tr>\n",
       "      <th>25%</th>\n",
       "      <td>1923.000000</td>\n",
       "      <td>4.000000</td>\n",
       "      <td>8.000000</td>\n",
       "      <td>-99.990000</td>\n",
       "      <td>-99.900000</td>\n",
       "      <td>-99.900000</td>\n",
       "      <td>-99.900000</td>\n",
       "    </tr>\n",
       "    <tr>\n",
       "      <th>50%</th>\n",
       "      <td>1955.000000</td>\n",
       "      <td>7.000000</td>\n",
       "      <td>16.000000</td>\n",
       "      <td>-99.990000</td>\n",
       "      <td>-99.900000</td>\n",
       "      <td>-99.900000</td>\n",
       "      <td>-99.900000</td>\n",
       "    </tr>\n",
       "    <tr>\n",
       "      <th>75%</th>\n",
       "      <td>1987.000000</td>\n",
       "      <td>10.000000</td>\n",
       "      <td>23.000000</td>\n",
       "      <td>0.000000</td>\n",
       "      <td>83.000000</td>\n",
       "      <td>68.000000</td>\n",
       "      <td>75.500000</td>\n",
       "    </tr>\n",
       "    <tr>\n",
       "      <th>max</th>\n",
       "      <td>2020.000000</td>\n",
       "      <td>12.000000</td>\n",
       "      <td>31.000000</td>\n",
       "      <td>15.450000</td>\n",
       "      <td>100.000000</td>\n",
       "      <td>89.000000</td>\n",
       "      <td>89.500000</td>\n",
       "    </tr>\n",
       "  </tbody>\n",
       "</table>\n",
       "</div>"
      ],
      "text/plain": [
       "               Year         Month           Day  Precipitation      Max Temp  \\\n",
       "count  46844.000000  46844.000000  46844.000000   46844.000000  46844.000000   \n",
       "mean    1955.494855      6.514025     15.755102     -52.161705    -10.775344   \n",
       "std       36.947066      3.451197      8.811201      50.019984     90.933819   \n",
       "min     1892.000000      1.000000      1.000000     -99.990000    -99.900000   \n",
       "25%     1923.000000      4.000000      8.000000     -99.990000    -99.900000   \n",
       "50%     1955.000000      7.000000     16.000000     -99.990000    -99.900000   \n",
       "75%     1987.000000     10.000000     23.000000       0.000000     83.000000   \n",
       "max     2020.000000     12.000000     31.000000      15.450000    100.000000   \n",
       "\n",
       "           Min Temp     Mean Temp  \n",
       "count  46844.000000  46844.000000  \n",
       "mean     -18.295929    -14.609446  \n",
       "std       83.371046     87.135967  \n",
       "min      -99.900000    -99.900000  \n",
       "25%      -99.900000    -99.900000  \n",
       "50%      -99.900000    -99.900000  \n",
       "75%       68.000000     75.500000  \n",
       "max       89.000000     89.500000  "
      ]
     },
     "execution_count": 12,
     "metadata": {},
     "output_type": "execute_result"
    }
   ],
   "source": [
    "df.describe()"
   ]
  },
  {
   "cell_type": "markdown",
   "id": "01142ccb",
   "metadata": {},
   "source": [
    "Nothing unusual with Year, Month and Day data.  <br>\n",
    "Weather data seems to have n/a values replaced by negative values.  <br>\n",
    "Precipitation values have no value for the purpose of this project and can be dropped. <br>\n",
    "Temperature is given in Fahrenheit. <br>\n",
    "Mean Temperature column can be dropped and recalculated after n/a's would be droppend and min and max. converted into Celcius.    "
   ]
  },
  {
   "cell_type": "code",
   "execution_count": 13,
   "id": "99bcbddf",
   "metadata": {},
   "outputs": [],
   "source": [
    "df.drop(labels=['Precipitation', 'Mean Temp'], axis=1, inplace=True)"
   ]
  },
  {
   "cell_type": "code",
   "execution_count": 14,
   "id": "cac99cb3",
   "metadata": {},
   "outputs": [
    {
     "data": {
      "text/html": [
       "<div>\n",
       "<style scoped>\n",
       "    .dataframe tbody tr th:only-of-type {\n",
       "        vertical-align: middle;\n",
       "    }\n",
       "\n",
       "    .dataframe tbody tr th {\n",
       "        vertical-align: top;\n",
       "    }\n",
       "\n",
       "    .dataframe thead th {\n",
       "        text-align: right;\n",
       "    }\n",
       "</style>\n",
       "<table border=\"1\" class=\"dataframe\">\n",
       "  <thead>\n",
       "    <tr style=\"text-align: right;\">\n",
       "      <th></th>\n",
       "      <th>Year</th>\n",
       "      <th>Month</th>\n",
       "      <th>Day</th>\n",
       "      <th>Max Temp</th>\n",
       "      <th>Min Temp</th>\n",
       "    </tr>\n",
       "  </thead>\n",
       "  <tbody>\n",
       "    <tr>\n",
       "      <th>0</th>\n",
       "      <td>1892</td>\n",
       "      <td>1</td>\n",
       "      <td>1</td>\n",
       "      <td>78.0</td>\n",
       "      <td>60.0</td>\n",
       "    </tr>\n",
       "    <tr>\n",
       "      <th>1</th>\n",
       "      <td>1892</td>\n",
       "      <td>1</td>\n",
       "      <td>2</td>\n",
       "      <td>71.0</td>\n",
       "      <td>52.0</td>\n",
       "    </tr>\n",
       "    <tr>\n",
       "      <th>2</th>\n",
       "      <td>1892</td>\n",
       "      <td>1</td>\n",
       "      <td>3</td>\n",
       "      <td>55.0</td>\n",
       "      <td>42.0</td>\n",
       "    </tr>\n",
       "    <tr>\n",
       "      <th>3</th>\n",
       "      <td>1892</td>\n",
       "      <td>1</td>\n",
       "      <td>4</td>\n",
       "      <td>58.0</td>\n",
       "      <td>34.0</td>\n",
       "    </tr>\n",
       "    <tr>\n",
       "      <th>4</th>\n",
       "      <td>1892</td>\n",
       "      <td>1</td>\n",
       "      <td>5</td>\n",
       "      <td>70.0</td>\n",
       "      <td>53.0</td>\n",
       "    </tr>\n",
       "  </tbody>\n",
       "</table>\n",
       "</div>"
      ],
      "text/plain": [
       "   Year  Month  Day  Max Temp  Min Temp\n",
       "0  1892      1    1      78.0      60.0\n",
       "1  1892      1    2      71.0      52.0\n",
       "2  1892      1    3      55.0      42.0\n",
       "3  1892      1    4      58.0      34.0\n",
       "4  1892      1    5      70.0      53.0"
      ]
     },
     "execution_count": 14,
     "metadata": {},
     "output_type": "execute_result"
    }
   ],
   "source": [
    "df.head()"
   ]
  },
  {
   "cell_type": "markdown",
   "id": "1f122160",
   "metadata": {},
   "source": [
    "# EDA"
   ]
  },
  {
   "cell_type": "markdown",
   "id": "ed0f9756",
   "metadata": {},
   "source": [
    "## n/a values"
   ]
  },
  {
   "cell_type": "code",
   "execution_count": 15,
   "id": "453dd793",
   "metadata": {},
   "outputs": [],
   "source": [
    "df[['Max Temp', 'Min Temp']] = df[['Max Temp',\n",
    "                                   'Min Temp']].replace(to_replace=-99.900000,\n",
    "                                                        value=np.nan)"
   ]
  },
  {
   "cell_type": "code",
   "execution_count": 16,
   "id": "c4b63f50",
   "metadata": {},
   "outputs": [
    {
     "name": "stdout",
     "output_type": "stream",
     "text": [
      "<class 'pandas.core.frame.DataFrame'>\n",
      "RangeIndex: 46844 entries, 0 to 46843\n",
      "Data columns (total 5 columns):\n",
      " #   Column    Non-Null Count  Dtype  \n",
      "---  ------    --------------  -----  \n",
      " 0   Year      46844 non-null  int64  \n",
      " 1   Month     46844 non-null  int64  \n",
      " 2   Day       46844 non-null  int64  \n",
      " 3   Max Temp  23006 non-null  float64\n",
      " 4   Min Temp  22999 non-null  float64\n",
      "dtypes: float64(2), int64(3)\n",
      "memory usage: 1.8 MB\n"
     ]
    }
   ],
   "source": [
    "df.info()"
   ]
  },
  {
   "cell_type": "markdown",
   "id": "511eb398",
   "metadata": {},
   "source": [
    "### Drop all rows with missing values"
   ]
  },
  {
   "cell_type": "code",
   "execution_count": 17,
   "id": "bc10ed59",
   "metadata": {},
   "outputs": [],
   "source": [
    "df.dropna(how='any', inplace=True)"
   ]
  },
  {
   "cell_type": "code",
   "execution_count": 18,
   "id": "475bd596",
   "metadata": {},
   "outputs": [
    {
     "name": "stdout",
     "output_type": "stream",
     "text": [
      "<class 'pandas.core.frame.DataFrame'>\n",
      "Int64Index: 22983 entries, 0 to 46843\n",
      "Data columns (total 5 columns):\n",
      " #   Column    Non-Null Count  Dtype  \n",
      "---  ------    --------------  -----  \n",
      " 0   Year      22983 non-null  int64  \n",
      " 1   Month     22983 non-null  int64  \n",
      " 2   Day       22983 non-null  int64  \n",
      " 3   Max Temp  22983 non-null  float64\n",
      " 4   Min Temp  22983 non-null  float64\n",
      "dtypes: float64(2), int64(3)\n",
      "memory usage: 1.1 MB\n"
     ]
    }
   ],
   "source": [
    "df.info()"
   ]
  },
  {
   "cell_type": "markdown",
   "id": "89de8309",
   "metadata": {},
   "source": [
    "## Temperature values"
   ]
  },
  {
   "cell_type": "markdown",
   "id": "d903daa8",
   "metadata": {},
   "source": [
    "### Temperature converter"
   ]
  },
  {
   "cell_type": "code",
   "execution_count": 19,
   "id": "c528f946",
   "metadata": {},
   "outputs": [],
   "source": [
    "def max_f_to_c(row):\n",
    "    return int((row['Max Temp'] - 32) * 5 / 9)\n",
    "\n",
    "def min_f_to_c(row):\n",
    "    return int((row['Min Temp'] - 32) * 5 / 9)"
   ]
  },
  {
   "cell_type": "code",
   "execution_count": 20,
   "id": "0879d74e",
   "metadata": {},
   "outputs": [],
   "source": [
    "df['Max C'] = df.apply(max_f_to_c, axis=1)"
   ]
  },
  {
   "cell_type": "code",
   "execution_count": 21,
   "id": "93f7b7d4",
   "metadata": {},
   "outputs": [],
   "source": [
    "df['Min C'] = df.apply(min_f_to_c, axis=1)"
   ]
  },
  {
   "cell_type": "markdown",
   "id": "85150bac",
   "metadata": {},
   "source": [
    "### Drop Fahrenheit values and rename columns"
   ]
  },
  {
   "cell_type": "code",
   "execution_count": 22,
   "id": "0ab01de5",
   "metadata": {},
   "outputs": [],
   "source": [
    "df = df.drop(['Max Temp', 'Min Temp'], axis=1)"
   ]
  },
  {
   "cell_type": "code",
   "execution_count": 23,
   "id": "c2b7b275",
   "metadata": {},
   "outputs": [],
   "source": [
    "df.rename({'Max C':'Max Temp', 'Min C':'Min Temp'}, axis=1, inplace=True)"
   ]
  },
  {
   "cell_type": "code",
   "execution_count": 24,
   "id": "182c59a0",
   "metadata": {},
   "outputs": [
    {
     "data": {
      "text/html": [
       "<div>\n",
       "<style scoped>\n",
       "    .dataframe tbody tr th:only-of-type {\n",
       "        vertical-align: middle;\n",
       "    }\n",
       "\n",
       "    .dataframe tbody tr th {\n",
       "        vertical-align: top;\n",
       "    }\n",
       "\n",
       "    .dataframe thead th {\n",
       "        text-align: right;\n",
       "    }\n",
       "</style>\n",
       "<table border=\"1\" class=\"dataframe\">\n",
       "  <thead>\n",
       "    <tr style=\"text-align: right;\">\n",
       "      <th></th>\n",
       "      <th>Year</th>\n",
       "      <th>Month</th>\n",
       "      <th>Day</th>\n",
       "      <th>Max Temp</th>\n",
       "      <th>Min Temp</th>\n",
       "    </tr>\n",
       "  </thead>\n",
       "  <tbody>\n",
       "    <tr>\n",
       "      <th>0</th>\n",
       "      <td>1892</td>\n",
       "      <td>1</td>\n",
       "      <td>1</td>\n",
       "      <td>25</td>\n",
       "      <td>15</td>\n",
       "    </tr>\n",
       "    <tr>\n",
       "      <th>1</th>\n",
       "      <td>1892</td>\n",
       "      <td>1</td>\n",
       "      <td>2</td>\n",
       "      <td>21</td>\n",
       "      <td>11</td>\n",
       "    </tr>\n",
       "    <tr>\n",
       "      <th>2</th>\n",
       "      <td>1892</td>\n",
       "      <td>1</td>\n",
       "      <td>3</td>\n",
       "      <td>12</td>\n",
       "      <td>5</td>\n",
       "    </tr>\n",
       "    <tr>\n",
       "      <th>3</th>\n",
       "      <td>1892</td>\n",
       "      <td>1</td>\n",
       "      <td>4</td>\n",
       "      <td>14</td>\n",
       "      <td>1</td>\n",
       "    </tr>\n",
       "    <tr>\n",
       "      <th>4</th>\n",
       "      <td>1892</td>\n",
       "      <td>1</td>\n",
       "      <td>5</td>\n",
       "      <td>21</td>\n",
       "      <td>11</td>\n",
       "    </tr>\n",
       "  </tbody>\n",
       "</table>\n",
       "</div>"
      ],
      "text/plain": [
       "   Year  Month  Day  Max Temp  Min Temp\n",
       "0  1892      1    1        25        15\n",
       "1  1892      1    2        21        11\n",
       "2  1892      1    3        12         5\n",
       "3  1892      1    4        14         1\n",
       "4  1892      1    5        21        11"
      ]
     },
     "execution_count": 24,
     "metadata": {},
     "output_type": "execute_result"
    }
   ],
   "source": [
    "df.head()"
   ]
  },
  {
   "cell_type": "markdown",
   "id": "548611ee",
   "metadata": {},
   "source": [
    "### Adding mean value"
   ]
  },
  {
   "cell_type": "code",
   "execution_count": 25,
   "id": "5e535147",
   "metadata": {},
   "outputs": [],
   "source": [
    "df['Avg Temp'] = np.mean(df[['Min Temp', 'Max Temp']], axis=1)"
   ]
  },
  {
   "cell_type": "code",
   "execution_count": 26,
   "id": "f2cd4dad",
   "metadata": {},
   "outputs": [
    {
     "data": {
      "text/html": [
       "<div>\n",
       "<style scoped>\n",
       "    .dataframe tbody tr th:only-of-type {\n",
       "        vertical-align: middle;\n",
       "    }\n",
       "\n",
       "    .dataframe tbody tr th {\n",
       "        vertical-align: top;\n",
       "    }\n",
       "\n",
       "    .dataframe thead th {\n",
       "        text-align: right;\n",
       "    }\n",
       "</style>\n",
       "<table border=\"1\" class=\"dataframe\">\n",
       "  <thead>\n",
       "    <tr style=\"text-align: right;\">\n",
       "      <th></th>\n",
       "      <th>Year</th>\n",
       "      <th>Month</th>\n",
       "      <th>Day</th>\n",
       "      <th>Max Temp</th>\n",
       "      <th>Min Temp</th>\n",
       "      <th>Avg Temp</th>\n",
       "    </tr>\n",
       "  </thead>\n",
       "  <tbody>\n",
       "    <tr>\n",
       "      <th>0</th>\n",
       "      <td>1892</td>\n",
       "      <td>1</td>\n",
       "      <td>1</td>\n",
       "      <td>25</td>\n",
       "      <td>15</td>\n",
       "      <td>20.0</td>\n",
       "    </tr>\n",
       "    <tr>\n",
       "      <th>1</th>\n",
       "      <td>1892</td>\n",
       "      <td>1</td>\n",
       "      <td>2</td>\n",
       "      <td>21</td>\n",
       "      <td>11</td>\n",
       "      <td>16.0</td>\n",
       "    </tr>\n",
       "    <tr>\n",
       "      <th>2</th>\n",
       "      <td>1892</td>\n",
       "      <td>1</td>\n",
       "      <td>3</td>\n",
       "      <td>12</td>\n",
       "      <td>5</td>\n",
       "      <td>8.5</td>\n",
       "    </tr>\n",
       "    <tr>\n",
       "      <th>3</th>\n",
       "      <td>1892</td>\n",
       "      <td>1</td>\n",
       "      <td>4</td>\n",
       "      <td>14</td>\n",
       "      <td>1</td>\n",
       "      <td>7.5</td>\n",
       "    </tr>\n",
       "    <tr>\n",
       "      <th>4</th>\n",
       "      <td>1892</td>\n",
       "      <td>1</td>\n",
       "      <td>5</td>\n",
       "      <td>21</td>\n",
       "      <td>11</td>\n",
       "      <td>16.0</td>\n",
       "    </tr>\n",
       "  </tbody>\n",
       "</table>\n",
       "</div>"
      ],
      "text/plain": [
       "   Year  Month  Day  Max Temp  Min Temp  Avg Temp\n",
       "0  1892      1    1        25        15      20.0\n",
       "1  1892      1    2        21        11      16.0\n",
       "2  1892      1    3        12         5       8.5\n",
       "3  1892      1    4        14         1       7.5\n",
       "4  1892      1    5        21        11      16.0"
      ]
     },
     "execution_count": 26,
     "metadata": {},
     "output_type": "execute_result"
    }
   ],
   "source": [
    "df.head()"
   ]
  },
  {
   "cell_type": "markdown",
   "id": "5825ff20",
   "metadata": {},
   "source": [
    "### !!!! Outliners"
   ]
  },
  {
   "cell_type": "markdown",
   "id": "175322dc",
   "metadata": {},
   "source": [
    "## Data transformation"
   ]
  },
  {
   "cell_type": "code",
   "execution_count": 27,
   "id": "497ccbc1",
   "metadata": {},
   "outputs": [],
   "source": [
    "df['Date'] = pd.to_datetime(df[['Year', 'Month', 'Day']])"
   ]
  },
  {
   "cell_type": "code",
   "execution_count": 28,
   "id": "337ac764",
   "metadata": {},
   "outputs": [],
   "source": [
    "# adding day of week data: \n",
    "df['DoW'] = df.Date.dt.dayofweek"
   ]
  },
  {
   "cell_type": "code",
   "execution_count": 29,
   "id": "44b6fc73",
   "metadata": {},
   "outputs": [],
   "source": [
    "df.drop('Year', axis=1, inplace=True)"
   ]
  },
  {
   "cell_type": "code",
   "execution_count": 36,
   "id": "de176a94",
   "metadata": {},
   "outputs": [],
   "source": [
    "df.set_index('Date', inplace=True)"
   ]
  },
  {
   "cell_type": "code",
   "execution_count": 37,
   "id": "daee45a5",
   "metadata": {},
   "outputs": [
    {
     "data": {
      "text/html": [
       "<div>\n",
       "<style scoped>\n",
       "    .dataframe tbody tr th:only-of-type {\n",
       "        vertical-align: middle;\n",
       "    }\n",
       "\n",
       "    .dataframe tbody tr th {\n",
       "        vertical-align: top;\n",
       "    }\n",
       "\n",
       "    .dataframe thead th {\n",
       "        text-align: right;\n",
       "    }\n",
       "</style>\n",
       "<table border=\"1\" class=\"dataframe\">\n",
       "  <thead>\n",
       "    <tr style=\"text-align: right;\">\n",
       "      <th></th>\n",
       "      <th>Month</th>\n",
       "      <th>Day</th>\n",
       "      <th>Max Temp</th>\n",
       "      <th>Min Temp</th>\n",
       "      <th>Avg Temp</th>\n",
       "      <th>DoW</th>\n",
       "    </tr>\n",
       "    <tr>\n",
       "      <th>Date</th>\n",
       "      <th></th>\n",
       "      <th></th>\n",
       "      <th></th>\n",
       "      <th></th>\n",
       "      <th></th>\n",
       "      <th></th>\n",
       "    </tr>\n",
       "  </thead>\n",
       "  <tbody>\n",
       "    <tr>\n",
       "      <th>1892-01-01</th>\n",
       "      <td>1</td>\n",
       "      <td>1</td>\n",
       "      <td>25</td>\n",
       "      <td>15</td>\n",
       "      <td>20.0</td>\n",
       "      <td>4</td>\n",
       "    </tr>\n",
       "    <tr>\n",
       "      <th>1892-01-02</th>\n",
       "      <td>1</td>\n",
       "      <td>2</td>\n",
       "      <td>21</td>\n",
       "      <td>11</td>\n",
       "      <td>16.0</td>\n",
       "      <td>5</td>\n",
       "    </tr>\n",
       "    <tr>\n",
       "      <th>1892-01-03</th>\n",
       "      <td>1</td>\n",
       "      <td>3</td>\n",
       "      <td>12</td>\n",
       "      <td>5</td>\n",
       "      <td>8.5</td>\n",
       "      <td>6</td>\n",
       "    </tr>\n",
       "    <tr>\n",
       "      <th>1892-01-04</th>\n",
       "      <td>1</td>\n",
       "      <td>4</td>\n",
       "      <td>14</td>\n",
       "      <td>1</td>\n",
       "      <td>7.5</td>\n",
       "      <td>0</td>\n",
       "    </tr>\n",
       "    <tr>\n",
       "      <th>1892-01-05</th>\n",
       "      <td>1</td>\n",
       "      <td>5</td>\n",
       "      <td>21</td>\n",
       "      <td>11</td>\n",
       "      <td>16.0</td>\n",
       "      <td>1</td>\n",
       "    </tr>\n",
       "  </tbody>\n",
       "</table>\n",
       "</div>"
      ],
      "text/plain": [
       "            Month  Day  Max Temp  Min Temp  Avg Temp  DoW\n",
       "Date                                                     \n",
       "1892-01-01      1    1        25        15      20.0    4\n",
       "1892-01-02      1    2        21        11      16.0    5\n",
       "1892-01-03      1    3        12         5       8.5    6\n",
       "1892-01-04      1    4        14         1       7.5    0\n",
       "1892-01-05      1    5        21        11      16.0    1"
      ]
     },
     "execution_count": 37,
     "metadata": {},
     "output_type": "execute_result"
    }
   ],
   "source": [
    "df.head()"
   ]
  },
  {
   "cell_type": "code",
   "execution_count": 38,
   "id": "1864e33c",
   "metadata": {},
   "outputs": [
    {
     "data": {
      "image/png": "[encoded data removed]",
      "text/plain": [
       "<Figure size 640x480 with 1 Axes>"
      ]
     },
     "metadata": {},
     "output_type": "display_data"
    }
   ],
   "source": [
    "df.plot(y='Max Temp', use_index=True, kind='line'); "
   ]
  },
  {
   "cell_type": "code",
   "execution_count": 39,
   "id": "b7462bd6",
   "metadata": {},
   "outputs": [
    {
     "data": {
      "image/png": "[encoded data removed]",
      "text/plain": [
       "<Figure size 640x480 with 1 Axes>"
      ]
     },
     "metadata": {},
     "output_type": "display_data"
    }
   ],
   "source": [
    "df.plot(y='Min Temp', use_index=True, kind='line'); "
   ]
  },
  {
   "cell_type": "code",
   "execution_count": null,
   "id": "1703d581",
   "metadata": {},
   "outputs": [],
   "source": []
  }
 ],
 "metadata": {
  "kernelspec": {
   "display_name": "Python 3 (ipykernel)",
   "language": "python",
   "name": "python3"
  },
  "language_info": {
   "codemirror_mode": {
    "name": "ipython",
    "version": 3
   },
   "file_extension": ".py",
   "mimetype": "text/x-python",
   "name": "python",
   "nbconvert_exporter": "python",
   "pygments_lexer": "ipython3",
   "version": "3.8.13"
  },
  "toc": {
   "base_numbering": 1,
   "nav_menu": {},
   "number_sections": true,
   "sideBar": true,
   "skip_h1_title": false,
   "title_cell": "Table of Contents",
   "title_sidebar": "Contents",
   "toc_cell": false,
   "toc_position": {},
   "toc_section_display": true,
   "toc_window_display": true
  },
  "varInspector": {
   "cols": {
    "lenName": 16,
    "lenType": 16,
    "lenVar": 40
   },
   "kernels_config": {
    "python": {
     "delete_cmd_postfix": "",
     "delete_cmd_prefix": "del ",
     "library": "var_list.py",
     "varRefreshCmd": "print(var_dic_list())"
    },
    "r": {
     "delete_cmd_postfix": ") ",
     "delete_cmd_prefix": "rm(",
     "library": "var_list.r",
     "varRefreshCmd": "cat(var_dic_list()) "
    }
   },
   "types_to_exclude": [
    "module",
    "function",
    "builtin_function_or_method",
    "instance",
    "_Feature"
   ],
   "window_display": false
  }
 },
 "nbformat": 4,
 "nbformat_minor": 5
}
